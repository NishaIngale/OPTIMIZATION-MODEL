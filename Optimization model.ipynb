{
 "cells": [
  {
   "cell_type": "markdown",
   "id": "a8b9c10b-1e0e-4a19-a9dc-2f25baabe034",
   "metadata": {},
   "source": [
    "**🚚 Business Case: Retail Inventory Allocation**\n",
    " \n",
    " A company has two warehouses (W1 and W2) and three retail stores (S1, S2, S3). There are two products (P1 and P2). Each warehouse has limited stock, and each store has demand. Shipping costs from each warehouse to each store (per unit) are known. We want to minimize total shipping cost while meeting all store demands and not exceeding warehouse stocks."
   ]
  },
  {
   "cell_type": "code",
   "execution_count": 8,
   "id": "a165cc96-587b-4e95-8301-6c5017b3555c",
   "metadata": {},
   "outputs": [],
   "source": [
    "import pulp"
   ]
  },
  {
   "cell_type": "code",
   "execution_count": 6,
   "id": "eb6a0201-cae7-41ed-b429-202813f96cf4",
   "metadata": {},
   "outputs": [],
   "source": [
    "warehouses = [\"W1\", \"W2\"]\n",
    "stores = [\"S1\", \"S2\", \"S3\"]\n",
    "products = [\"P1\", \"P2\"]\n",
    "\n",
    "# Stock at warehouses\n",
    "stock = {(\"W1\",\"P1\"):100, (\"W1\",\"P2\"):80,\n",
    "         (\"W2\",\"P1\"):90,  (\"W2\",\"P2\"):120}\n",
    "\n",
    "# Demand at stores\n",
    "demand = {(\"S1\",\"P1\"):70, (\"S1\",\"P2\"):60,\n",
    "          (\"S2\",\"P1\"):80, (\"S2\",\"P2\"):70,\n",
    "          (\"S3\",\"P1\"):40, (\"S3\",\"P2\"):50}\n",
    "\n",
    "# Shipping cost per unit\n",
    "cost = {(\"W1\",\"S1\",\"P1\"):4, (\"W1\",\"S2\",\"P1\"):5, (\"W1\",\"S3\",\"P1\"):6,\n",
    "        (\"W2\",\"S1\",\"P1\"):5, (\"W2\",\"S2\",\"P1\"):4, (\"W2\",\"S3\",\"P1\"):3,\n",
    "        (\"W1\",\"S1\",\"P2\"):6, (\"W1\",\"S2\",\"P2\"):5, (\"W1\",\"S3\",\"P2\"):4,\n",
    "        (\"W2\",\"S1\",\"P2\"):4, (\"W2\",\"S2\",\"P2\"):6, (\"W2\",\"S3\",\"P2\"):5}"
   ]
  },
  {
   "cell_type": "code",
   "execution_count": 7,
   "id": "0f67f842-e751-48eb-8f5a-22d6354e6ccd",
   "metadata": {},
   "outputs": [],
   "source": [
    "# 1️ Define problem\n",
    "prob = pulp.LpProblem(\"Warehouse_to_Store_Allocation\", pulp.LpMinimize)\n",
    "\n",
    "# 2️ Decision variables: ship[(w,s,p)]\n",
    "ship = pulp.LpVariable.dicts(\n",
    "    \"ship\", (warehouses, stores, products),\n",
    "    lowBound=0, cat=\"Integer\"\n",
    ")\n",
    "\n",
    "# 3️ Objective: minimize shipping cost\n",
    "prob += pulp.lpSum(\n",
    "    cost[(w,s,p)] * ship[w][s][p]\n",
    "    for w in warehouses for s in stores for p in products\n",
    "), \"Total_Shipping_Cost\"\n",
    "\n",
    "# 4️ Constraints:\n",
    "# a) Don't exceed warehouse stock\n",
    "for w in warehouses:\n",
    "    for p in products:\n",
    "        prob += pulp.lpSum(ship[w][s][p] for s in stores) <= stock[(w,p)], f\"Stock_{w}_{p}\"\n",
    "\n",
    "# b) Meet store demand\n",
    "for s in stores:\n",
    "    for p in products:\n",
    "        prob += pulp.lpSum(ship[w][s][p] for w in warehouses) >= demand[(s,p)], f\"Demand_{s}_{p}\""
   ]
  },
  {
   "cell_type": "code",
   "execution_count": 3,
   "id": "e3eed216-3372-47c3-a324-2d87555dc276",
   "metadata": {},
   "outputs": [
    {
     "name": "stdout",
     "output_type": "stream",
     "text": [
      "Status: Optimal\n"
     ]
    }
   ],
   "source": [
    "# 5️ Solve the model\n",
    "prob.solve()\n",
    "print(\"Status:\", pulp.LpStatus[prob.status])\n"
   ]
  },
  {
   "cell_type": "code",
   "execution_count": 4,
   "id": "582ae452-7a74-458e-932a-e739314dc4db",
   "metadata": {},
   "outputs": [
    {
     "name": "stdout",
     "output_type": "stream",
     "text": [
      "Ship 70.0 units of P1 from W1 to S1\n",
      "Ship 30.0 units of P1 from W1 to S2\n",
      "Ship 70.0 units of P2 from W1 to S2\n",
      "Ship 10.0 units of P2 from W1 to S3\n",
      "Ship 60.0 units of P2 from W2 to S1\n",
      "Ship 50.0 units of P1 from W2 to S2\n",
      "Ship 40.0 units of P1 from W2 to S3\n",
      "Ship 40.0 units of P2 from W2 to S3\n",
      "Total shipping cost ₹ 1580.0\n"
     ]
    }
   ],
   "source": [
    "# Shipping plan\n",
    "for w in warehouses:\n",
    "    for s in stores:\n",
    "        for p in products:\n",
    "            qty = ship[w][s][p].varValue\n",
    "            if qty > 0:\n",
    "                print(f\"Ship {qty} units of {p} from {w} to {s}\")\n",
    "\n",
    "print(\"Total shipping cost ₹\", pulp.value(prob.objective))\n"
   ]
  },
  {
   "cell_type": "code",
   "execution_count": null,
   "id": "a0919827-6c54-4971-adac-0cd2cd6edf6c",
   "metadata": {},
   "outputs": [],
   "source": []
  }
 ],
 "metadata": {
  "kernelspec": {
   "display_name": "Python 3 (ipykernel)",
   "language": "python",
   "name": "python3"
  },
  "language_info": {
   "codemirror_mode": {
    "name": "ipython",
    "version": 3
   },
   "file_extension": ".py",
   "mimetype": "text/x-python",
   "name": "python",
   "nbconvert_exporter": "python",
   "pygments_lexer": "ipython3",
   "version": "3.12.3"
  }
 },
 "nbformat": 4,
 "nbformat_minor": 5
}
